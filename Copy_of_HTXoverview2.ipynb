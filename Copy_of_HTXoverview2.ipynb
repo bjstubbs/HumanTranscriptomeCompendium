{
  "nbformat": 4,
  "nbformat_minor": 0,
  "metadata": {
    "kernelspec": {
      "display_name": "R",
      "language": "R",
      "name": "ir"
    },
    "language_info": {
      "codemirror_mode": "r",
      "file_extension": ".r",
      "mimetype": "text/x-r-source",
      "name": "R",
      "pygments_lexer": "r",
      "version": "3.6.0"
    },
    "colab": {
      "name": "Copy of HTXoverview2.ipynb",
      "provenance": [],
      "collapsed_sections": [],
      "include_colab_link": true
    }
  },
  "cells": [
    {
      "cell_type": "markdown",
      "metadata": {
        "id": "view-in-github",
        "colab_type": "text"
      },
      "source": [
        "<a href=\"https://colab.research.google.com/github/vjcitn/HumanTranscriptomeCompendium/blob/master/Copy_of_HTXoverview2.ipynb\" target=\"_parent\"><img src=\"https://colab.research.google.com/assets/colab-badge.svg\" alt=\"Open In Colab\"/></a>"
      ]
    },
    {
      "cell_type": "markdown",
      "metadata": {
        "id": "8c-AcUsJtoV5",
        "colab_type": "text"
      },
      "source": [
        "# Using the HumanTranscriptomeCompendium with Bioconductor\n",
        "\n",
        "HumanTranscriptomeCompendium refers to a cloud-resident collection of uniformly produced quantifications for 181000 RNA-seq experiments derived from NCBI SRA in Summer 2017.  The quantifications were obtained by Dr. Sean Davis of NCI using [salmon](https://combine-lab.github.io/salmon/) and transformed to HDF5 by Dr. VJ Carey of Harvard Medical School.  The data are available in the HDF Scalable Data Service (HSDS) thanks to the support of John Readey of the HDF Group.  In this very brief introductory document we illustrate how to access the data and related annotations.\n",
        "\n",
        "1. [Setup](#setup)\n",
        "2. [Metadata management and interrogation](#metadata)\n",
        "   1. [DocSet: indexed metadata](#docset)\n",
        "   2. [Querying a DocSet](#querdoc)\n",
        "3. [Filtering the compendium](#filtering)\n",
        "   1. [Metadata overview](#overview)\n",
        "   2. [Drilling down to tabulate study design factors](#drill)\n",
        "4. [Statistical characteristics of the compendium](#stat)\n",
        "   1. [Distribution of study sizes](#sizes)\n",
        "   2. [Availability of gender or ethnicity information](#geneth)\n",
        "   3. [Single-gene surveys](#sing)\n",
        "5. [Summary](#summary)"
      ]
    },
    {
      "cell_type": "markdown",
      "metadata": {
        "id": "kXjd6pI4toV6",
        "colab_type": "text"
      },
      "source": [
        "## Setup and initial acquaintance  <a id=\"setup\"></a>\n",
        "\n",
        "As of April 1 2019, we need to retrieve key packages from github."
      ]
    },
    {
      "cell_type": "code",
      "metadata": {
        "id": "n3FkiNTRDmtD",
        "colab_type": "code",
        "colab": {
          "base_uri": "https://localhost:8080/",
          "height": 17
        },
        "outputId": "d7f4f0fa-e598-447d-86f8-a141cb462c5a"
      },
      "source": [
        "if (!file.exists(\"Bioc_3.10_colab_htxpkgs.zip\")) system(\"gsutil cp gs://bioc_pkgs_aug_2019/Bioc_3.10_colab_htxpkgs.zip .\", intern=TRUE)"
      ],
      "execution_count": 1,
      "outputs": [
        {
          "output_type": "display_data",
          "data": {
            "text/plain": [
              "character(0)"
            ],
            "text/latex": "",
            "text/markdown": "",
            "text/html": [
              ""
            ]
          },
          "metadata": {
            "tags": []
          }
        }
      ]
    },
    {
      "cell_type": "code",
      "metadata": {
        "id": "eVwCSWRRDvyA",
        "colab_type": "code",
        "outputId": "761043b7-f3ba-4706-f430-0847d2af2ebb",
        "colab": {
          "base_uri": "https://localhost:8080/",
          "height": 96
        }
      },
      "source": [
        "if (!dir.exists(\"Bioc3.10_colab_htxpkgs\")) system(\"unzip Bioc_3.10_colab_htxpkgs.zip\"); dir()"
      ],
      "execution_count": 2,
      "outputs": [
        {
          "output_type": "display_data",
          "data": {
            "text/plain": [
              "[1] \"Bioc_3.10_colab_htxpkgs.zip\" \"Bioc3.10_colab_htxpkgs\"     \n",
              "[3] \"sample_data\"                "
            ],
            "text/latex": "\\begin{enumerate*}\n\\item 'Bioc\\_3.10\\_colab\\_htxpkgs.zip'\n\\item 'Bioc3.10\\_colab\\_htxpkgs'\n\\item 'sample\\_data'\n\\end{enumerate*}\n",
            "text/markdown": "1. 'Bioc_3.10_colab_htxpkgs.zip'\n2. 'Bioc3.10_colab_htxpkgs'\n3. 'sample_data'\n\n\n",
            "text/html": [
              "<ol class=list-inline>\n",
              "\t<li>'Bioc_3.10_colab_htxpkgs.zip'</li>\n",
              "\t<li>'Bioc3.10_colab_htxpkgs'</li>\n",
              "\t<li>'sample_data'</li>\n",
              "</ol>\n"
            ]
          },
          "metadata": {
            "tags": []
          }
        }
      ]
    },
    {
      "cell_type": "code",
      "metadata": {
        "id": "jmG8abv4EELE",
        "colab_type": "code",
        "colab": {}
      },
      "source": [
        ".libPaths(c(\"Bioc3.10_colab_htxpkgs\", .libPaths()))"
      ],
      "execution_count": 0,
      "outputs": []
    },
    {
      "cell_type": "code",
      "metadata": {
        "id": "60LSBI-6vp1J",
        "colab_type": "code",
        "outputId": "71092498-6c68-4451-e376-1741f5cdce9f",
        "colab": {
          "base_uri": "https://localhost:8080/",
          "height": 79
        }
      },
      "source": [
        "ii = installed.packages()\n",
        "dim(ii)"
      ],
      "execution_count": 4,
      "outputs": [
        {
          "output_type": "display_data",
          "data": {
            "text/plain": [
              "[1] 194  16"
            ],
            "text/latex": "\\begin{enumerate*}\n\\item 194\n\\item 16\n\\end{enumerate*}\n",
            "text/markdown": "1. 194\n2. 16\n\n\n",
            "text/html": [
              "<ol class=list-inline>\n",
              "\t<li>194</li>\n",
              "\t<li>16</li>\n",
              "</ol>\n"
            ]
          },
          "metadata": {
            "tags": []
          }
        }
      ]
    },
    {
      "cell_type": "code",
      "metadata": {
        "id": "H9mM-XCltoV9",
        "colab_type": "code",
        "outputId": "11f52ffa-07ea-4e4e-b9c6-e78bce57e664",
        "colab": {
          "base_uri": "https://localhost:8080/",
          "height": 328
        }
      },
      "source": [
        "library(HumanTranscriptomeCompendium)\n",
        "se1 = addRD(htx_load())\n",
        "se1"
      ],
      "execution_count": 5,
      "outputs": [
        {
          "output_type": "stream",
          "text": [
            "Loading required namespace: BiocFileCache\n",
            "\n",
            "Using temporary cache /tmp/Rtmp4SDJAD/BiocFileCache\n",
            "\n",
            "adding RDS to local cache, future invocations will use local image\n",
            "\n",
            "adding rname 'https://s3.amazonaws.com/bcfound-bigrna/rangedHtxGeneSE.rds'\n",
            "\n"
          ],
          "name": "stderr"
        },
        {
          "output_type": "display_data",
          "data": {
            "text/plain": [
              "class: RangedSummarizedExperiment \n",
              "dim: 58288 181134 \n",
              "metadata(1): rangeSource\n",
              "assays(1): counts\n",
              "rownames(58288): ENSG00000000003.14 ENSG00000000005.5 ...\n",
              "  ENSG00000284747.1 ENSG00000284748.1\n",
              "rowData names(4): gene_type gene_id gene_name havana_gene\n",
              "colnames(181134): DRX001125 DRX001126 ... SRX999990 SRX999991\n",
              "colData names(4): experiment_accession experiment_platform\n",
              "  study_accession study_title"
            ]
          },
          "metadata": {
            "tags": []
          }
        }
      ]
    },
    {
      "cell_type": "markdown",
      "metadata": {
        "id": "kURSH2A3toWB",
        "colab_type": "text"
      },
      "source": [
        "This SummarizedExperiment instance is developed according to methods defined in the [restfulSE package](https://bioconductor.org/packages/restfulSE/).  See the related [f1000research report](https://f1000research.com/articles/8-21/v1).\n",
        "\n",
        "The `assay` method involves the [DelayedArray](https://bioconductor.org/packages/DelayedArray/) protocol.  A preview of remote numerical data is provided when `assay` is invoked.  Note that very large requests of data through the `as.matrix` method on a DelayedArray in HSDS will likely engender errors."
      ]
    },
    {
      "cell_type": "code",
      "metadata": {
        "id": "HVINQm-7toWC",
        "colab_type": "code",
        "outputId": "c116698b-688a-4d07-eeb3-3cea9dee7480",
        "colab": {
          "base_uri": "https://localhost:8080/",
          "height": 242
        }
      },
      "source": [
        "suppressPackageStartupMessages(library(SummarizedExperiment))\n",
        "options(digits=4)\n",
        "assay(se1)"
      ],
      "execution_count": 27,
      "outputs": [
        {
          "output_type": "display_data",
          "data": {
            "text/plain": [
              "<58288 x 181134> matrix of class DelayedMatrix and type \"double\":\n",
              "                   DRX001125 DRX001126 DRX001127 ... SRX999990 SRX999991\n",
              "ENSG00000000003.14     40.00   1322.84   1528.26   .    1149.0    1430.4\n",
              " ENSG00000000005.5      0.00     10.00      6.00   .       0.0       0.0\n",
              "ENSG00000000419.12     64.00   1456.00   2039.00   .    1485.0    1970.0\n",
              "ENSG00000000457.13     31.81   1583.50   1715.04   .     631.8     802.1\n",
              "ENSG00000000460.16     12.43    439.32    529.28   .     945.7    1259.8\n",
              "               ...         .         .         .   .         .         .\n",
              " ENSG00000284744.1 1.056e+00 2.481e+01 3.229e+01   .     7.316     3.268\n",
              " ENSG00000284745.1 1.000e+00 1.600e+01 1.700e+01   .     0.000     0.000\n",
              " ENSG00000284746.1 0.000e+00 3.795e-03 0.000e+00   .     0.000     0.000\n",
              " ENSG00000284747.1 7.776e+00 2.708e+02 2.399e+02   .   108.012    94.607\n",
              " ENSG00000284748.1 1.000e+00 2.223e+01 3.774e+01   .    11.279     5.241"
            ]
          },
          "metadata": {
            "tags": []
          }
        }
      ]
    },
    {
      "cell_type": "markdown",
      "metadata": {
        "id": "QvBNCptKtoWE",
        "colab_type": "text"
      },
      "source": [
        "## Metadata management and interrogation <a id=\"metadata\"></a>\n",
        "\n",
        "The [ssrch](https://github.com/vjcitn/ssrch) package (pending at Bioconductor) defines utilities for managing heterogeneous metadata.  A snapshot of metadata available in March 2019 was obtained using the [SRAdbV2](https://github.com/seandavi/SRAdbV2) package of Sean Davis of NCI.  The `sample.attribute` information was indexed and organized into a `DocSet` instance as defined in `ssrch`.\n",
        "\n",
        "### DocSet: indexed metadata <a id=\"docset\"/>\n",
        "\n",
        "The HumanTranscriptomeCompendium package has sample attribute data.frame instances for 4841 studies available in NCBI SRA."
      ]
    },
    {
      "cell_type": "code",
      "metadata": {
        "id": "mChnpnqitoWF",
        "colab_type": "code",
        "outputId": "6a6b5008-f440-453d-c86d-e01290af6a41",
        "colab": {
          "base_uri": "https://localhost:8080/",
          "height": 225
        }
      },
      "source": [
        "library(ssrch)\n",
        "ds4841 = HumanTranscriptomeCompendium::get_ds4841()"
      ],
      "execution_count": 7,
      "outputs": [
        {
          "output_type": "stream",
          "text": [
            "Using temporary cache /tmp/Rtmp4SDJAD/BiocFileCache\n",
            "\n",
            "one time retrieval for https://s3.amazonaws.com/bcfound-bigrna/ds4841.rda\n",
            "\n",
            "adding rname 'https://s3.amazonaws.com/bcfound-bigrna/ds4841.rda'\n",
            "\n",
            "Using temporary cache /tmp/Rtmp4SDJAD/BiocFileCache\n",
            "\n",
            "one time retrieval for https://s3.amazonaws.com/bcfound-bigrna/doc4842.zip\n",
            "\n",
            "adding rname 'https://s3.amazonaws.com/bcfound-bigrna/doc4842.zip'\n",
            "\n"
          ],
          "name": "stderr"
        }
      ]
    },
    {
      "cell_type": "markdown",
      "metadata": {
        "id": "RN-vw-mNtoWI",
        "colab_type": "text"
      },
      "source": [
        "### Querying a DocSet <a id=\"querdoc\"/>\n",
        "\n",
        "The `searchDocs` function can obtain study accession numbers for studies that employ terms of interest.  In the following we check for studies using the regexp `BRAF[- ]mut`."
      ]
    },
    {
      "cell_type": "code",
      "metadata": {
        "id": "RSP8qJMntoWI",
        "colab_type": "code",
        "outputId": "96b81f20-a91e-4ef7-fa23-1a314d7ac744",
        "colab": {
          "base_uri": "https://localhost:8080/",
          "height": 141
        }
      },
      "source": [
        "brm = searchDocs(\"BRAF[- ]mut\", ds4841)\n",
        "brm"
      ],
      "execution_count": 8,
      "outputs": [
        {
          "output_type": "display_data",
          "data": {
            "text/plain": [
              "  hits          docs     \n",
              "1 BRAF mutation SRP080797\n",
              "2 BRAF-mut      SRP027530\n",
              "3 BRAF-mutant   SRP065849"
            ],
            "text/latex": "A data.frame: 3 × 2\n\\begin{tabular}{ll}\n hits & docs\\\\\n <chr> & <chr>\\\\\n\\hline\n\t BRAF mutation & SRP080797\\\\\n\t BRAF-mut      & SRP027530\\\\\n\t BRAF-mutant   & SRP065849\\\\\n\\end{tabular}\n",
            "text/markdown": "\nA data.frame: 3 × 2\n\n| hits &lt;chr&gt; | docs &lt;chr&gt; |\n|---|---|\n| BRAF mutation | SRP080797 |\n| BRAF-mut      | SRP027530 |\n| BRAF-mutant   | SRP065849 |\n\n",
            "text/html": [
              "<table>\n",
              "<caption>A data.frame: 3 × 2</caption>\n",
              "<thead>\n",
              "\t<tr><th scope=col>hits</th><th scope=col>docs</th></tr>\n",
              "\t<tr><th scope=col>&lt;chr&gt;</th><th scope=col>&lt;chr&gt;</th></tr>\n",
              "</thead>\n",
              "<tbody>\n",
              "\t<tr><td>BRAF mutation</td><td>SRP080797</td></tr>\n",
              "\t<tr><td>BRAF-mut     </td><td>SRP027530</td></tr>\n",
              "\t<tr><td>BRAF-mutant  </td><td>SRP065849</td></tr>\n",
              "</tbody>\n",
              "</table>\n"
            ]
          },
          "metadata": {
            "tags": []
          }
        }
      ]
    },
    {
      "cell_type": "markdown",
      "metadata": {
        "id": "T459NCT9toWL",
        "colab_type": "text"
      },
      "source": [
        "## Filtering the compendium <a id=\"filtering\"/>\n",
        "\n",
        "Given a vector of study accession numbers, we filter the compendium (in a delayed manner):"
      ]
    },
    {
      "cell_type": "code",
      "metadata": {
        "id": "Gm2kdLFgtoWL",
        "colab_type": "code",
        "outputId": "cd743974-e02a-45f7-cc11-db0c87c5195b",
        "colab": {
          "base_uri": "https://localhost:8080/",
          "height": 259
        }
      },
      "source": [
        "se_brafmut = htx_query_by_study_accession(brm$docs, se1)\n",
        "se_brafmut"
      ],
      "execution_count": 9,
      "outputs": [
        {
          "output_type": "stream",
          "text": [
            "Using temporary cache /tmp/Rtmp4SDJAD/BiocFileCache\n",
            "\n",
            "Using temporary cache /tmp/Rtmp4SDJAD/BiocFileCache\n",
            "\n"
          ],
          "name": "stderr"
        },
        {
          "output_type": "display_data",
          "data": {
            "text/plain": [
              "class: RangedSummarizedExperiment \n",
              "dim: 58288 72 \n",
              "metadata(4): rangeSource SRP080797 SRP027530 SRP065849\n",
              "assays(1): counts\n",
              "rownames(58288): ENSG00000000003.14 ENSG00000000005.5 ...\n",
              "  ENSG00000284747.1 ENSG00000284748.1\n",
              "rowData names(4): gene_type gene_id gene_name havana_gene\n",
              "colnames(72): SRX1420823 SRX1420824 ... SRX3241750 SRX3241751\n",
              "colData names(4): experiment_accession experiment_platform\n",
              "  study_accession study_title"
            ]
          },
          "metadata": {
            "tags": []
          }
        }
      ]
    },
    {
      "cell_type": "markdown",
      "metadata": {
        "id": "RCs6uT2GtoWN",
        "colab_type": "text"
      },
      "source": [
        "### Metadata overview <a id=\"overview\"></a>\n",
        "    \n",
        "We obtained a collection of 72 samples.  The sample-level metadata are heterogeneous, possessing unique field sets and informal field annotations."
      ]
    },
    {
      "cell_type": "code",
      "metadata": {
        "id": "RNgroI_TtoWO",
        "colab_type": "code",
        "outputId": "1a6ea7bf-9bbf-4e70-bd08-f8664854d16c",
        "colab": {
          "base_uri": "https://localhost:8080/",
          "height": 695
        }
      },
      "source": [
        "lapply(metadata(se_brafmut)[-1], head, 3)"
      ],
      "execution_count": 10,
      "outputs": [
        {
          "output_type": "display_data",
          "data": {
            "text/plain": [
              "$SRP080797\n",
              "           X study.accession experiment.accession source_name cell.line\n",
              "SRX1994764 2       SRP080797           SRX1994764        Skin      A375\n",
              "SRX1994763 3       SRP080797           SRX1994763        Lung      A549\n",
              "SRX1994775 4       SRP080797           SRX1994775        Skin      A375\n",
              "           genetic.background                                    culture.medium\n",
              "SRX1994764      BRAF mutation Starvation: Culture in 0.5% FBS medium for 2 days\n",
              "SRX1994763      KRAS mutation Starvation: Culture in 0.5% FBS medium for 2 days\n",
              "SRX1994775      BRAF mutation Starvation: Culture in 0.5% FBS medium for 2 days\n",
              "                                       agent                   egf.stimulation\n",
              "SRX1994764        DMSO treatment for 3 hours                              <NA>\n",
              "SRX1994763   MEK inhibitor 3 hours at 0.2 uM EGF stimulation: 20 min, 100ng/ml\n",
              "SRX1994775 INTS11 siRNA transfection, 3 days EGF stimulation: 20 min, 100ng/ml\n",
              "\n",
              "$SRP027530\n",
              "          X study.accession experiment.accession   source_name         tissue\n",
              "SRX323589 1       SRP027530            SRX323589 Thyroid tumor Thyroid cancer\n",
              "SRX323603 2       SRP027530            SRX323603 Thyroid tumor Thyroid cancer\n",
              "SRX323599 3       SRP027530            SRX323599 Thyroid tumor Thyroid cancer\n",
              "          age    Sex tumor.stage genotype.variation\n",
              "SRX323589  57 female     T1bN0M0           BRAF-mut\n",
              "SRX323603  57 female     T1bN0M0           BRAF-mut\n",
              "SRX323599  44 female    T1bN1aM0            BRAF-wt\n",
              "\n",
              "$SRP065849\n",
              "           X study.accession experiment.accession                 source_name\n",
              "SRX1420824 1       SRP065849           SRX1420824 A375 melanoma bearing mouse\n",
              "SRX1420825 2       SRP065849           SRX1420825 A375 melanoma bearing mouse\n",
              "SRX1420826 3       SRP065849           SRX1420826 A375 melanoma bearing mouse\n",
              "               tissue             phenotype host.mouse.treatment\n",
              "SRX1420824 A375 tumor vemurafenib-sensitive                 none\n",
              "SRX1420825 A375 tumor vemurafenib-sensitive                 none\n",
              "SRX1420826 A375 tumor vemurafenib-sensitive                 none\n"
            ],
            "text/latex": "\\begin{description}\n\\item[\\$SRP080797] A data.frame: 3 × 9\n\\begin{tabular}{r|lllllllll}\n  & X & study.accession & experiment.accession & source\\_name & cell.line & genetic.background & culture.medium & agent & egf.stimulation\\\\\n  & <int> & <chr> & <chr> & <chr> & <chr> & <chr> & <chr> & <chr> & <chr>\\\\\n\\hline\n\tSRX1994764 & 2 & SRP080797 & SRX1994764 & Skin & A375 & BRAF mutation & Starvation: Culture in 0.5\\% FBS medium for 2 days & DMSO treatment for 3 hours        & NA                               \\\\\n\tSRX1994763 & 3 & SRP080797 & SRX1994763 & Lung & A549 & KRAS mutation & Starvation: Culture in 0.5\\% FBS medium for 2 days & MEK inhibitor 3 hours at 0.2 uM   & EGF stimulation: 20 min, 100ng/ml\\\\\n\tSRX1994775 & 4 & SRP080797 & SRX1994775 & Skin & A375 & BRAF mutation & Starvation: Culture in 0.5\\% FBS medium for 2 days & INTS11 siRNA transfection, 3 days & EGF stimulation: 20 min, 100ng/ml\\\\\n\\end{tabular}\n\n\\item[\\$SRP027530] A data.frame: 3 × 9\n\\begin{tabular}{r|lllllllll}\n  & X & study.accession & experiment.accession & source\\_name & tissue & age & Sex & tumor.stage & genotype.variation\\\\\n  & <int> & <chr> & <chr> & <chr> & <chr> & <int> & <chr> & <chr> & <chr>\\\\\n\\hline\n\tSRX323589 & 1 & SRP027530 & SRX323589 & Thyroid tumor & Thyroid cancer & 57 & female & T1bN0M0  & BRAF-mut\\\\\n\tSRX323603 & 2 & SRP027530 & SRX323603 & Thyroid tumor & Thyroid cancer & 57 & female & T1bN0M0  & BRAF-mut\\\\\n\tSRX323599 & 3 & SRP027530 & SRX323599 & Thyroid tumor & Thyroid cancer & 44 & female & T1bN1aM0 & BRAF-wt \\\\\n\\end{tabular}\n\n\\item[\\$SRP065849] A data.frame: 3 × 7\n\\begin{tabular}{r|lllllll}\n  & X & study.accession & experiment.accession & source\\_name & tissue & phenotype & host.mouse.treatment\\\\\n  & <int> & <chr> & <chr> & <chr> & <chr> & <chr> & <chr>\\\\\n\\hline\n\tSRX1420824 & 1 & SRP065849 & SRX1420824 & A375 melanoma bearing mouse & A375 tumor & vemurafenib-sensitive & none\\\\\n\tSRX1420825 & 2 & SRP065849 & SRX1420825 & A375 melanoma bearing mouse & A375 tumor & vemurafenib-sensitive & none\\\\\n\tSRX1420826 & 3 & SRP065849 & SRX1420826 & A375 melanoma bearing mouse & A375 tumor & vemurafenib-sensitive & none\\\\\n\\end{tabular}\n\n\\end{description}\n",
            "text/markdown": "$SRP080797\n:   \nA data.frame: 3 × 9\n\n| <!--/--> | X &lt;int&gt; | study.accession &lt;chr&gt; | experiment.accession &lt;chr&gt; | source_name &lt;chr&gt; | cell.line &lt;chr&gt; | genetic.background &lt;chr&gt; | culture.medium &lt;chr&gt; | agent &lt;chr&gt; | egf.stimulation &lt;chr&gt; |\n|---|---|---|---|---|---|---|---|---|---|\n| SRX1994764 | 2 | SRP080797 | SRX1994764 | Skin | A375 | BRAF mutation | Starvation: Culture in 0.5% FBS medium for 2 days | DMSO treatment for 3 hours        | NA                                |\n| SRX1994763 | 3 | SRP080797 | SRX1994763 | Lung | A549 | KRAS mutation | Starvation: Culture in 0.5% FBS medium for 2 days | MEK inhibitor 3 hours at 0.2 uM   | EGF stimulation: 20 min, 100ng/ml |\n| SRX1994775 | 4 | SRP080797 | SRX1994775 | Skin | A375 | BRAF mutation | Starvation: Culture in 0.5% FBS medium for 2 days | INTS11 siRNA transfection, 3 days | EGF stimulation: 20 min, 100ng/ml |\n\n\n$SRP027530\n:   \nA data.frame: 3 × 9\n\n| <!--/--> | X &lt;int&gt; | study.accession &lt;chr&gt; | experiment.accession &lt;chr&gt; | source_name &lt;chr&gt; | tissue &lt;chr&gt; | age &lt;int&gt; | Sex &lt;chr&gt; | tumor.stage &lt;chr&gt; | genotype.variation &lt;chr&gt; |\n|---|---|---|---|---|---|---|---|---|---|\n| SRX323589 | 1 | SRP027530 | SRX323589 | Thyroid tumor | Thyroid cancer | 57 | female | T1bN0M0  | BRAF-mut |\n| SRX323603 | 2 | SRP027530 | SRX323603 | Thyroid tumor | Thyroid cancer | 57 | female | T1bN0M0  | BRAF-mut |\n| SRX323599 | 3 | SRP027530 | SRX323599 | Thyroid tumor | Thyroid cancer | 44 | female | T1bN1aM0 | BRAF-wt  |\n\n\n$SRP065849\n:   \nA data.frame: 3 × 7\n\n| <!--/--> | X &lt;int&gt; | study.accession &lt;chr&gt; | experiment.accession &lt;chr&gt; | source_name &lt;chr&gt; | tissue &lt;chr&gt; | phenotype &lt;chr&gt; | host.mouse.treatment &lt;chr&gt; |\n|---|---|---|---|---|---|---|---|\n| SRX1420824 | 1 | SRP065849 | SRX1420824 | A375 melanoma bearing mouse | A375 tumor | vemurafenib-sensitive | none |\n| SRX1420825 | 2 | SRP065849 | SRX1420825 | A375 melanoma bearing mouse | A375 tumor | vemurafenib-sensitive | none |\n| SRX1420826 | 3 | SRP065849 | SRX1420826 | A375 melanoma bearing mouse | A375 tumor | vemurafenib-sensitive | none |\n\n\n\n\n",
            "text/html": [
              "<dl>\n",
              "\t<dt>$SRP080797</dt>\n",
              "\t\t<dd><table>\n",
              "<caption>A data.frame: 3 × 9</caption>\n",
              "<thead>\n",
              "\t<tr><th></th><th scope=col>X</th><th scope=col>study.accession</th><th scope=col>experiment.accession</th><th scope=col>source_name</th><th scope=col>cell.line</th><th scope=col>genetic.background</th><th scope=col>culture.medium</th><th scope=col>agent</th><th scope=col>egf.stimulation</th></tr>\n",
              "\t<tr><th></th><th scope=col>&lt;int&gt;</th><th scope=col>&lt;chr&gt;</th><th scope=col>&lt;chr&gt;</th><th scope=col>&lt;chr&gt;</th><th scope=col>&lt;chr&gt;</th><th scope=col>&lt;chr&gt;</th><th scope=col>&lt;chr&gt;</th><th scope=col>&lt;chr&gt;</th><th scope=col>&lt;chr&gt;</th></tr>\n",
              "</thead>\n",
              "<tbody>\n",
              "\t<tr><th scope=row>SRX1994764</th><td>2</td><td>SRP080797</td><td>SRX1994764</td><td>Skin</td><td>A375</td><td>BRAF mutation</td><td>Starvation: Culture in 0.5% FBS medium for 2 days</td><td>DMSO treatment for 3 hours       </td><td>NA                               </td></tr>\n",
              "\t<tr><th scope=row>SRX1994763</th><td>3</td><td>SRP080797</td><td>SRX1994763</td><td>Lung</td><td>A549</td><td>KRAS mutation</td><td>Starvation: Culture in 0.5% FBS medium for 2 days</td><td>MEK inhibitor 3 hours at 0.2 uM  </td><td>EGF stimulation: 20 min, 100ng/ml</td></tr>\n",
              "\t<tr><th scope=row>SRX1994775</th><td>4</td><td>SRP080797</td><td>SRX1994775</td><td>Skin</td><td>A375</td><td>BRAF mutation</td><td>Starvation: Culture in 0.5% FBS medium for 2 days</td><td>INTS11 siRNA transfection, 3 days</td><td>EGF stimulation: 20 min, 100ng/ml</td></tr>\n",
              "</tbody>\n",
              "</table>\n",
              "</dd>\n",
              "\t<dt>$SRP027530</dt>\n",
              "\t\t<dd><table>\n",
              "<caption>A data.frame: 3 × 9</caption>\n",
              "<thead>\n",
              "\t<tr><th></th><th scope=col>X</th><th scope=col>study.accession</th><th scope=col>experiment.accession</th><th scope=col>source_name</th><th scope=col>tissue</th><th scope=col>age</th><th scope=col>Sex</th><th scope=col>tumor.stage</th><th scope=col>genotype.variation</th></tr>\n",
              "\t<tr><th></th><th scope=col>&lt;int&gt;</th><th scope=col>&lt;chr&gt;</th><th scope=col>&lt;chr&gt;</th><th scope=col>&lt;chr&gt;</th><th scope=col>&lt;chr&gt;</th><th scope=col>&lt;int&gt;</th><th scope=col>&lt;chr&gt;</th><th scope=col>&lt;chr&gt;</th><th scope=col>&lt;chr&gt;</th></tr>\n",
              "</thead>\n",
              "<tbody>\n",
              "\t<tr><th scope=row>SRX323589</th><td>1</td><td>SRP027530</td><td>SRX323589</td><td>Thyroid tumor</td><td>Thyroid cancer</td><td>57</td><td>female</td><td>T1bN0M0 </td><td>BRAF-mut</td></tr>\n",
              "\t<tr><th scope=row>SRX323603</th><td>2</td><td>SRP027530</td><td>SRX323603</td><td>Thyroid tumor</td><td>Thyroid cancer</td><td>57</td><td>female</td><td>T1bN0M0 </td><td>BRAF-mut</td></tr>\n",
              "\t<tr><th scope=row>SRX323599</th><td>3</td><td>SRP027530</td><td>SRX323599</td><td>Thyroid tumor</td><td>Thyroid cancer</td><td>44</td><td>female</td><td>T1bN1aM0</td><td>BRAF-wt </td></tr>\n",
              "</tbody>\n",
              "</table>\n",
              "</dd>\n",
              "\t<dt>$SRP065849</dt>\n",
              "\t\t<dd><table>\n",
              "<caption>A data.frame: 3 × 7</caption>\n",
              "<thead>\n",
              "\t<tr><th></th><th scope=col>X</th><th scope=col>study.accession</th><th scope=col>experiment.accession</th><th scope=col>source_name</th><th scope=col>tissue</th><th scope=col>phenotype</th><th scope=col>host.mouse.treatment</th></tr>\n",
              "\t<tr><th></th><th scope=col>&lt;int&gt;</th><th scope=col>&lt;chr&gt;</th><th scope=col>&lt;chr&gt;</th><th scope=col>&lt;chr&gt;</th><th scope=col>&lt;chr&gt;</th><th scope=col>&lt;chr&gt;</th><th scope=col>&lt;chr&gt;</th></tr>\n",
              "</thead>\n",
              "<tbody>\n",
              "\t<tr><th scope=row>SRX1420824</th><td>1</td><td>SRP065849</td><td>SRX1420824</td><td>A375 melanoma bearing mouse</td><td>A375 tumor</td><td>vemurafenib-sensitive</td><td>none</td></tr>\n",
              "\t<tr><th scope=row>SRX1420825</th><td>2</td><td>SRP065849</td><td>SRX1420825</td><td>A375 melanoma bearing mouse</td><td>A375 tumor</td><td>vemurafenib-sensitive</td><td>none</td></tr>\n",
              "\t<tr><th scope=row>SRX1420826</th><td>3</td><td>SRP065849</td><td>SRX1420826</td><td>A375 melanoma bearing mouse</td><td>A375 tumor</td><td>vemurafenib-sensitive</td><td>none</td></tr>\n",
              "</tbody>\n",
              "</table>\n",
              "</dd>\n",
              "</dl>\n"
            ]
          },
          "metadata": {
            "tags": []
          }
        }
      ]
    },
    {
      "cell_type": "markdown",
      "metadata": {
        "id": "VsvytX1HtoWR",
        "colab_type": "text"
      },
      "source": [
        "For the first two studies the role played by BRAF is clear.  However, the table for SRP065849 does not seem to use the token `BRAF` in any field.  It turns out that BRAF is used in the study title, and titles were harvested for the metadata index."
      ]
    },
    {
      "cell_type": "code",
      "metadata": {
        "id": "_gCHNMX_toWR",
        "colab_type": "code",
        "outputId": "b5fd5798-b0ee-4994-8656-95f39b58ddb6",
        "colab": {
          "base_uri": "https://localhost:8080/",
          "height": 52
        }
      },
      "source": [
        "slot(ds4841, \"titles\")[\"SRP065849\"]"
      ],
      "execution_count": 11,
      "outputs": [
        {
          "output_type": "display_data",
          "data": {
            "text/plain": [
              "                                                                                                                                                       SRP065849 \n",
              "\"A novel RAF kinase inhibitor with DFG-out binding mode: high efficacy in BRAF-mutant tumor xenograft models in the absence of normal tissue hyperproliferation\" "
            ],
            "text/latex": "\\textbf{SRP065849:} 'A novel RAF kinase inhibitor with DFG-out binding mode: high efficacy in BRAF-mutant tumor xenograft models in the absence of normal tissue hyperproliferation'",
            "text/markdown": "**SRP065849:** 'A novel RAF kinase inhibitor with DFG-out binding mode: high efficacy in BRAF-mutant tumor xenograft models in the absence of normal tissue hyperproliferation'",
            "text/html": [
              "<strong>SRP065849:</strong> 'A novel RAF kinase inhibitor with DFG-out binding mode: high efficacy in BRAF-mutant tumor xenograft models in the absence of normal tissue hyperproliferation'"
            ]
          },
          "metadata": {
            "tags": []
          }
        }
      ]
    },
    {
      "cell_type": "markdown",
      "metadata": {
        "id": "oHrf7N5ItoWU",
        "colab_type": "text"
      },
      "source": [
        "### Drilling down to tabulate study design factors <a id=\"drill\"></a>\n",
        "\n",
        "We will crosstabulate the key factors from SRP080797, derived from a 2017 Genes and Development paper entitled 'Integrator orchestrates RAS/ERK1/2 signaling transcriptional programs'.  Note the inconsistent notation for the MEK inhibitor factor, leading to an unnecessary stratum."
      ]
    },
    {
      "cell_type": "code",
      "metadata": {
        "id": "_aswqcTztoWV",
        "colab_type": "code",
        "outputId": "21dcc145-85da-47ab-a9d3-a02155fc7474",
        "colab": {
          "base_uri": "https://localhost:8080/",
          "height": 674
        }
      },
      "source": [
        "md = metadata(se_brafmut)[-1]\n",
        "with(md$SRP080797, xtabs(~agent+cell.line+genetic.background))"
      ],
      "execution_count": 12,
      "outputs": [
        {
          "output_type": "display_data",
          "data": {
            "text/plain": [
              ", , genetic.background = BRAF mutation\n",
              "\n",
              "                                    cell.line\n",
              "agent                                A375 A549 HeLa\n",
              "  BRAF inhibitor 3 hours at 1uM         2    0    0\n",
              "  Control siRNA transfection, 3 days    2    0    0\n",
              "  DMSO treatment for 3 hours            2    0    0\n",
              "  Doxycycline for 3 days                0    0    0\n",
              "  ERK inhibitor 3 hours at 1uM          1    0    0\n",
              "  INTS11 siRNA transfection, 3 days     2    0    0\n",
              "  MEK inhibitor 3 hours at 0.2 uM       2    0    0\n",
              "  MEK inhibitor for 3 hours at 0.2uM    0    0    0\n",
              "\n",
              ", , genetic.background = Harboring inducible shRNA expressing cassette\n",
              "\n",
              "                                    cell.line\n",
              "agent                                A375 A549 HeLa\n",
              "  BRAF inhibitor 3 hours at 1uM         0    0    0\n",
              "  Control siRNA transfection, 3 days    0    0    0\n",
              "  DMSO treatment for 3 hours            0    0    1\n",
              "  Doxycycline for 3 days                0    0   14\n",
              "  ERK inhibitor 3 hours at 1uM          0    0    2\n",
              "  INTS11 siRNA transfection, 3 days     0    0    0\n",
              "  MEK inhibitor 3 hours at 0.2 uM       0    0    0\n",
              "  MEK inhibitor for 3 hours at 0.2uM    0    0    1\n",
              "\n",
              ", , genetic.background = KRAS mutation\n",
              "\n",
              "                                    cell.line\n",
              "agent                                A375 A549 HeLa\n",
              "  BRAF inhibitor 3 hours at 1uM         0    0    0\n",
              "  Control siRNA transfection, 3 days    0    2    0\n",
              "  DMSO treatment for 3 hours            0    2    0\n",
              "  Doxycycline for 3 days                0    0    0\n",
              "  ERK inhibitor 3 hours at 1uM          0    2    0\n",
              "  INTS11 siRNA transfection, 3 days     0    1    0\n",
              "  MEK inhibitor 3 hours at 0.2 uM       0    1    0\n",
              "  MEK inhibitor for 3 hours at 0.2uM    0    0    0\n"
            ]
          },
          "metadata": {
            "tags": []
          }
        }
      ]
    },
    {
      "cell_type": "markdown",
      "metadata": {
        "id": "fMw2TQFEtoWY",
        "colab_type": "text"
      },
      "source": [
        "## Statistical characteristics of the compendium <a id=\"stat\"></a>\n",
        "\n",
        "### Distribution of study sizes <a id=\"sizes\"></a>"
      ]
    },
    {
      "cell_type": "code",
      "metadata": {
        "id": "ALZbyEjMtoWZ",
        "colab_type": "code",
        "outputId": "7a503b9b-c25e-496c-c68a-4e465be2e24a",
        "colab": {
          "base_uri": "https://localhost:8080/",
          "height": 437
        }
      },
      "source": [
        "sizes = table(se1$study_accession)\n",
        "hist(log10(sizes), 20, axes=FALSE, main=\"study size\", xlab=\"# experiments/study\")\n",
        "axis(1, at=c(0, 0.699, 1, 1.301, 1.699, 2, 2.3979, 2.699, 3, 3.4771), \n",
        "     labels=c(1, 5, 10, 20, 50, 100, 250, 500, 1000, 3000))\n",
        "axis(2)"
      ],
      "execution_count": 13,
      "outputs": [
        {
          "output_type": "display_data",
          "data": {
            "image/png": "[encoded data removed]",
            "text/plain": [
              "Plot with title “study size”"
            ]
          },
          "metadata": {
            "tags": [],
            "image/png": {
              "width": 420,
              "height": 420
            },
            "text/plain": {
              "width": 420,
              "height": 420
            }
          }
        }
      ]
    },
    {
      "cell_type": "markdown",
      "metadata": {
        "id": "-7sqoq9ZtoWb",
        "colab_type": "text"
      },
      "source": [
        "Studies with at least 1000 experiments:"
      ]
    },
    {
      "cell_type": "code",
      "metadata": {
        "id": "l_QU-rQitoWc",
        "colab_type": "code",
        "outputId": "05b1f69b-8de9-4ab0-aea3-987853198b82",
        "colab": {
          "base_uri": "https://localhost:8080/",
          "height": 698
        }
      },
      "source": [
        "bigstud = which(sizes>=1000)\n",
        "bigstud = bigstud[order(sizes[bigstud])]\n",
        "data.frame(N=as.numeric(sizes[bigstud]), title=slot(ds4841, \"titles\")[names(sizes)[bigstud]])"
      ],
      "execution_count": 14,
      "outputs": [
        {
          "output_type": "display_data",
          "data": {
            "text/plain": [
              "   N   \n",
              "1  1001\n",
              "2  1004\n",
              "3  1153\n",
              "4  1236\n",
              "5  1373\n",
              "6  1520\n",
              "7  1536\n",
              "8  1544\n",
              "9  1594\n",
              "10 1598\n",
              "11 1681\n",
              "12 1690\n",
              "13 1722\n",
              "14 1804\n",
              "15 1834\n",
              "16 1855\n",
              "17 1911\n",
              "18 2275\n",
              "19 2390\n",
              "20 2405\n",
              "21 2671\n",
              "22 3030\n",
              "23 3383\n",
              "24 3493\n",
              "25 3987\n",
              "26 4002\n",
              "27 5146\n",
              "28 9495\n",
              "   title                                                                                                                                     \n",
              "1  CSER: Exploring Precision Cancer Medicine for Sarcoma and Rare Cancers                                                                    \n",
              "2  Single Cell Transcriptome Conservation in Cryopreserved Cells and Tissues                                                                 \n",
              "3  single cell transcriptomic analyses of human pancreatic islets                                                                            \n",
              "4  _Genetics_of_gene_expression_in_macrophage_immune_response_Open_access                                                                    \n",
              "5  GxE and Complex Traits                                                                                                                    \n",
              "6  Single-cell RNA-seq reveal lineage formation and X-chromosome dosage compensation in human preimplantation embryos                        \n",
              "7  NA                                                                                                                                        \n",
              "8  Homo sapiens Raw sequence reads                                                                                                           \n",
              "9  RNA Sequencing of Single Human Islet Cells Reveals Type 2 Diabetes Genes                                                                  \n",
              "10 Zika Virus Disrupts Phospho-TBK1 Localization and Mitosis in Human Neural Stem Cell Model Systems                                         \n",
              "11 A novel addressable 9600-microwell array single cell RNA-seq method applied on fresh mouse cortical cells and frozen human cortical nuclei\n",
              "12 A comprehensive assessment of RNA-seq accuracy, reproducibility and information content by the Sequence Quality Control consortium        \n",
              "13 Single cell RNAseq characterization of cell types produced over time in an in vitro model of human inhibitory interneuron differentiation.\n",
              "14 Snapshot and temporal scRNA-seq of progenitor cells to dissect human embryonic stem cells entry into endoderm progenitors                 \n",
              "15 REGION-SPECIFIC NEURAL STEM CELL LINEAGES REVEALED BY SINGLE-CELL RNA-SEQ FROM HUMAN EMBRYONIC STEM CELLS [Smart-seq]                     \n",
              "16 NA                                                                                                                                        \n",
              "17 GSE35585: RIP-seq from ENCODE/SUNY Albany                                                                                                 \n",
              "18 Single-cell transcriptomics uncovers distinct molecular signatures of stem cells in chronic myeloid leukemia                              \n",
              "19 Single cell transcriptome analysis of human pancreas reveals transcriptional signatures of aging and somatic mutation patterns.           \n",
              "20 Single-cell indexed RNA-Seq of human hematopoietic stem and progenitors                                                                   \n",
              "21 REGION-SPECIFIC NEURAL STEM CELL LINEAGES REVEALED BY SINGLE-CELL RNA-SEQ FROM HUMAN EMBRYONIC STEM CELLS [Cel-seq]                       \n",
              "22 Single Cell Analysis Program-Transcriptomics (SCAP-T) (USC site)                                                                          \n",
              "23 Single-Cell RNAseq analysis of diffuse neoplastic infiltrating cells at the migrating front of human glioblastoma                         \n",
              "24 Single-cell RNA-seq analysis of human pancreas from healthy individuals and type 2 diabetes patients                                      \n",
              "25 Single_Cell_RNAseq_at_various_stages_of_HiPSCs_differentiating_toward_definitive_endoderm_and_endoderm_derived_lineages_                  \n",
              "26 Single Cell RNA-seq Study of Midbrain and Dopaminergic Neuron Development in Mouse, Human, and Stem Cells                                 \n",
              "27 Single Cell Analysis Program-Transcriptomics (SCAP-T) (UC San Diego site)                                                                 \n",
              "28 Genotype-Tissue Expression (GTEx) Common Fund Project                                                                                     "
            ],
            "text/latex": "A data.frame: 28 × 2\n\\begin{tabular}{ll}\n N & title\\\\\n <dbl> & <fct>\\\\\n\\hline\n\t 1001 & CSER: Exploring Precision Cancer Medicine for Sarcoma and Rare Cancers                                                                    \\\\\n\t 1004 & Single Cell Transcriptome Conservation in Cryopreserved Cells and Tissues                                                                 \\\\\n\t 1153 & single cell transcriptomic analyses of human pancreatic islets                                                                            \\\\\n\t 1236 & \\_Genetics\\_of\\_gene\\_expression\\_in\\_macrophage\\_immune\\_response\\_Open\\_access                                                                    \\\\\n\t 1373 & GxE and Complex Traits                                                                                                                    \\\\\n\t 1520 & Single-cell RNA-seq reveal lineage formation and X-chromosome dosage compensation in human preimplantation embryos                        \\\\\n\t 1536 & NA                                                                                                                                        \\\\\n\t 1544 & Homo sapiens Raw sequence reads                                                                                                           \\\\\n\t 1594 & RNA Sequencing of Single Human Islet Cells Reveals Type 2 Diabetes Genes                                                                  \\\\\n\t 1598 & Zika Virus Disrupts Phospho-TBK1 Localization and Mitosis in Human Neural Stem Cell Model Systems                                         \\\\\n\t 1681 & A novel addressable 9600-microwell array single cell RNA-seq method applied on fresh mouse cortical cells and frozen human cortical nuclei\\\\\n\t 1690 & A comprehensive assessment of RNA-seq accuracy, reproducibility and information content by the Sequence Quality Control consortium        \\\\\n\t 1722 & Single cell RNAseq characterization of cell types produced over time in an in vitro model of human inhibitory interneuron differentiation.\\\\\n\t 1804 & Snapshot and temporal scRNA-seq of progenitor cells to dissect human embryonic stem cells entry into endoderm progenitors                 \\\\\n\t 1834 & REGION-SPECIFIC NEURAL STEM CELL LINEAGES REVEALED BY SINGLE-CELL RNA-SEQ FROM HUMAN EMBRYONIC STEM CELLS {[}Smart-seq{]}                     \\\\\n\t 1855 & NA                                                                                                                                        \\\\\n\t 1911 & GSE35585: RIP-seq from ENCODE/SUNY Albany                                                                                                 \\\\\n\t 2275 & Single-cell transcriptomics uncovers distinct molecular signatures of stem cells in chronic myeloid leukemia                              \\\\\n\t 2390 & Single cell transcriptome analysis of human pancreas reveals transcriptional signatures of aging and somatic mutation patterns.           \\\\\n\t 2405 & Single-cell indexed RNA-Seq of human hematopoietic stem and progenitors                                                                   \\\\\n\t 2671 & REGION-SPECIFIC NEURAL STEM CELL LINEAGES REVEALED BY SINGLE-CELL RNA-SEQ FROM HUMAN EMBRYONIC STEM CELLS {[}Cel-seq{]}                       \\\\\n\t 3030 & Single Cell Analysis Program-Transcriptomics (SCAP-T) (USC site)                                                                          \\\\\n\t 3383 & Single-Cell RNAseq analysis of diffuse neoplastic infiltrating cells at the migrating front of human glioblastoma                         \\\\\n\t 3493 & Single-cell RNA-seq analysis of human pancreas from healthy individuals and type 2 diabetes patients                                      \\\\\n\t 3987 & Single\\_Cell\\_RNAseq\\_at\\_various\\_stages\\_of\\_HiPSCs\\_differentiating\\_toward\\_definitive\\_endoderm\\_and\\_endoderm\\_derived\\_lineages\\_                  \\\\\n\t 4002 & Single Cell RNA-seq Study of Midbrain and Dopaminergic Neuron Development in Mouse, Human, and Stem Cells                                 \\\\\n\t 5146 & Single Cell Analysis Program-Transcriptomics (SCAP-T) (UC San Diego site)                                                                 \\\\\n\t 9495 & Genotype-Tissue Expression (GTEx) Common Fund Project                                                                                     \\\\\n\\end{tabular}\n",
            "text/markdown": "\nA data.frame: 28 × 2\n\n| N &lt;dbl&gt; | title &lt;fct&gt; |\n|---|---|\n| 1001 | CSER: Exploring Precision Cancer Medicine for Sarcoma and Rare Cancers                                                                     |\n| 1004 | Single Cell Transcriptome Conservation in Cryopreserved Cells and Tissues                                                                  |\n| 1153 | single cell transcriptomic analyses of human pancreatic islets                                                                             |\n| 1236 | _Genetics_of_gene_expression_in_macrophage_immune_response_Open_access                                                                     |\n| 1373 | GxE and Complex Traits                                                                                                                     |\n| 1520 | Single-cell RNA-seq reveal lineage formation and X-chromosome dosage compensation in human preimplantation embryos                         |\n| 1536 | NA                                                                                                                                         |\n| 1544 | Homo sapiens Raw sequence reads                                                                                                            |\n| 1594 | RNA Sequencing of Single Human Islet Cells Reveals Type 2 Diabetes Genes                                                                   |\n| 1598 | Zika Virus Disrupts Phospho-TBK1 Localization and Mitosis in Human Neural Stem Cell Model Systems                                          |\n| 1681 | A novel addressable 9600-microwell array single cell RNA-seq method applied on fresh mouse cortical cells and frozen human cortical nuclei |\n| 1690 | A comprehensive assessment of RNA-seq accuracy, reproducibility and information content by the Sequence Quality Control consortium         |\n| 1722 | Single cell RNAseq characterization of cell types produced over time in an in vitro model of human inhibitory interneuron differentiation. |\n| 1804 | Snapshot and temporal scRNA-seq of progenitor cells to dissect human embryonic stem cells entry into endoderm progenitors                  |\n| 1834 | REGION-SPECIFIC NEURAL STEM CELL LINEAGES REVEALED BY SINGLE-CELL RNA-SEQ FROM HUMAN EMBRYONIC STEM CELLS [Smart-seq]                      |\n| 1855 | NA                                                                                                                                         |\n| 1911 | GSE35585: RIP-seq from ENCODE/SUNY Albany                                                                                                  |\n| 2275 | Single-cell transcriptomics uncovers distinct molecular signatures of stem cells in chronic myeloid leukemia                               |\n| 2390 | Single cell transcriptome analysis of human pancreas reveals transcriptional signatures of aging and somatic mutation patterns.            |\n| 2405 | Single-cell indexed RNA-Seq of human hematopoietic stem and progenitors                                                                    |\n| 2671 | REGION-SPECIFIC NEURAL STEM CELL LINEAGES REVEALED BY SINGLE-CELL RNA-SEQ FROM HUMAN EMBRYONIC STEM CELLS [Cel-seq]                        |\n| 3030 | Single Cell Analysis Program-Transcriptomics (SCAP-T) (USC site)                                                                           |\n| 3383 | Single-Cell RNAseq analysis of diffuse neoplastic infiltrating cells at the migrating front of human glioblastoma                          |\n| 3493 | Single-cell RNA-seq analysis of human pancreas from healthy individuals and type 2 diabetes patients                                       |\n| 3987 | Single_Cell_RNAseq_at_various_stages_of_HiPSCs_differentiating_toward_definitive_endoderm_and_endoderm_derived_lineages_                   |\n| 4002 | Single Cell RNA-seq Study of Midbrain and Dopaminergic Neuron Development in Mouse, Human, and Stem Cells                                  |\n| 5146 | Single Cell Analysis Program-Transcriptomics (SCAP-T) (UC San Diego site)                                                                  |\n| 9495 | Genotype-Tissue Expression (GTEx) Common Fund Project                                                                                      |\n\n",
            "text/html": [
              "<table>\n",
              "<caption>A data.frame: 28 × 2</caption>\n",
              "<thead>\n",
              "\t<tr><th scope=col>N</th><th scope=col>title</th></tr>\n",
              "\t<tr><th scope=col>&lt;dbl&gt;</th><th scope=col>&lt;fct&gt;</th></tr>\n",
              "</thead>\n",
              "<tbody>\n",
              "\t<tr><td>1001</td><td>CSER: Exploring Precision Cancer Medicine for Sarcoma and Rare Cancers                                                                    </td></tr>\n",
              "\t<tr><td>1004</td><td>Single Cell Transcriptome Conservation in Cryopreserved Cells and Tissues                                                                 </td></tr>\n",
              "\t<tr><td>1153</td><td>single cell transcriptomic analyses of human pancreatic islets                                                                            </td></tr>\n",
              "\t<tr><td>1236</td><td>_Genetics_of_gene_expression_in_macrophage_immune_response_Open_access                                                                    </td></tr>\n",
              "\t<tr><td>1373</td><td>GxE and Complex Traits                                                                                                                    </td></tr>\n",
              "\t<tr><td>1520</td><td>Single-cell RNA-seq reveal lineage formation and X-chromosome dosage compensation in human preimplantation embryos                        </td></tr>\n",
              "\t<tr><td>1536</td><td>NA                                                                                                                                        </td></tr>\n",
              "\t<tr><td>1544</td><td>Homo sapiens Raw sequence reads                                                                                                           </td></tr>\n",
              "\t<tr><td>1594</td><td>RNA Sequencing of Single Human Islet Cells Reveals Type 2 Diabetes Genes                                                                  </td></tr>\n",
              "\t<tr><td>1598</td><td>Zika Virus Disrupts Phospho-TBK1 Localization and Mitosis in Human Neural Stem Cell Model Systems                                         </td></tr>\n",
              "\t<tr><td>1681</td><td>A novel addressable 9600-microwell array single cell RNA-seq method applied on fresh mouse cortical cells and frozen human cortical nuclei</td></tr>\n",
              "\t<tr><td>1690</td><td>A comprehensive assessment of RNA-seq accuracy, reproducibility and information content by the Sequence Quality Control consortium        </td></tr>\n",
              "\t<tr><td>1722</td><td>Single cell RNAseq characterization of cell types produced over time in an in vitro model of human inhibitory interneuron differentiation.</td></tr>\n",
              "\t<tr><td>1804</td><td>Snapshot and temporal scRNA-seq of progenitor cells to dissect human embryonic stem cells entry into endoderm progenitors                 </td></tr>\n",
              "\t<tr><td>1834</td><td>REGION-SPECIFIC NEURAL STEM CELL LINEAGES REVEALED BY SINGLE-CELL RNA-SEQ FROM HUMAN EMBRYONIC STEM CELLS [Smart-seq]                     </td></tr>\n",
              "\t<tr><td>1855</td><td>NA                                                                                                                                        </td></tr>\n",
              "\t<tr><td>1911</td><td>GSE35585: RIP-seq from ENCODE/SUNY Albany                                                                                                 </td></tr>\n",
              "\t<tr><td>2275</td><td>Single-cell transcriptomics uncovers distinct molecular signatures of stem cells in chronic myeloid leukemia                              </td></tr>\n",
              "\t<tr><td>2390</td><td>Single cell transcriptome analysis of human pancreas reveals transcriptional signatures of aging and somatic mutation patterns.           </td></tr>\n",
              "\t<tr><td>2405</td><td>Single-cell indexed RNA-Seq of human hematopoietic stem and progenitors                                                                   </td></tr>\n",
              "\t<tr><td>2671</td><td>REGION-SPECIFIC NEURAL STEM CELL LINEAGES REVEALED BY SINGLE-CELL RNA-SEQ FROM HUMAN EMBRYONIC STEM CELLS [Cel-seq]                       </td></tr>\n",
              "\t<tr><td>3030</td><td>Single Cell Analysis Program-Transcriptomics (SCAP-T) (USC site)                                                                          </td></tr>\n",
              "\t<tr><td>3383</td><td>Single-Cell RNAseq analysis of diffuse neoplastic infiltrating cells at the migrating front of human glioblastoma                         </td></tr>\n",
              "\t<tr><td>3493</td><td>Single-cell RNA-seq analysis of human pancreas from healthy individuals and type 2 diabetes patients                                      </td></tr>\n",
              "\t<tr><td>3987</td><td>Single_Cell_RNAseq_at_various_stages_of_HiPSCs_differentiating_toward_definitive_endoderm_and_endoderm_derived_lineages_                  </td></tr>\n",
              "\t<tr><td>4002</td><td>Single Cell RNA-seq Study of Midbrain and Dopaminergic Neuron Development in Mouse, Human, and Stem Cells                                 </td></tr>\n",
              "\t<tr><td>5146</td><td>Single Cell Analysis Program-Transcriptomics (SCAP-T) (UC San Diego site)                                                                 </td></tr>\n",
              "\t<tr><td>9495</td><td>Genotype-Tissue Expression (GTEx) Common Fund Project                                                                                     </td></tr>\n",
              "</tbody>\n",
              "</table>\n"
            ]
          },
          "metadata": {
            "tags": []
          }
        }
      ]
    },
    {
      "cell_type": "markdown",
      "metadata": {
        "id": "h2jRnr4StoWe",
        "colab_type": "text"
      },
      "source": [
        "### Availability of gender or ethnicity information <a id=\"geneth\"></a>\n",
        "\n",
        "There is no guarantee that gender or ethnicity is recorded in the sample.attributes field.  But sometimes it is."
      ]
    },
    {
      "cell_type": "code",
      "metadata": {
        "id": "L4yAdEostoWf",
        "colab_type": "code",
        "outputId": "4ac97fc6-7c97-4527-ea30-da29559c94f0",
        "colab": {
          "base_uri": "https://localhost:8080/",
          "height": 165
        }
      },
      "source": [
        "sex.recorded = searchDocs(\"[Ss]ex$\", ds4841)\n",
        "dim(sex.recorded)\n",
        "table(sex.recorded$hits)"
      ],
      "execution_count": 15,
      "outputs": [
        {
          "output_type": "display_data",
          "data": {
            "text/plain": [
              "[1] 1010    2"
            ],
            "text/latex": "\\begin{enumerate*}\n\\item 1010\n\\item 2\n\\end{enumerate*}\n",
            "text/markdown": "1. 1010\n2. 2\n\n\n",
            "text/html": [
              "<ol class=list-inline>\n",
              "\t<li>1010</li>\n",
              "\t<li>2</li>\n",
              "</ol>\n"
            ]
          },
          "metadata": {
            "tags": []
          }
        },
        {
          "output_type": "display_data",
          "data": {
            "text/plain": [
              "\n",
              "    cell.sex    fetal.sex     host_sex     host.sex    mixed sex obsolete.sex \n",
              "           7            1            1            2            1            1 \n",
              " patient.sex          sex          Sex \n",
              "           2          846          149 "
            ]
          },
          "metadata": {
            "tags": []
          }
        }
      ]
    },
    {
      "cell_type": "code",
      "metadata": {
        "id": "w7rO4nbbtoWh",
        "colab_type": "code",
        "outputId": "626b3668-fad9-4285-9203-e7a20d528ef3",
        "colab": {
          "base_uri": "https://localhost:8080/",
          "height": 269
        }
      },
      "source": [
        "eth.recorded = searchDocs(\"[Rr]ace$|[Ee]thn\", ds4841)\n",
        "dim(eth.recorded)\n",
        "table(eth.recorded$hits)"
      ],
      "execution_count": 16,
      "outputs": [
        {
          "output_type": "display_data",
          "data": {
            "text/plain": [
              "[1] 156   2"
            ],
            "text/latex": "\\begin{enumerate*}\n\\item 156\n\\item 2\n\\end{enumerate*}\n",
            "text/markdown": "1. 156\n2. 2\n\n\n",
            "text/html": [
              "<ol class=list-inline>\n",
              "\t<li>156</li>\n",
              "\t<li>2</li>\n",
              "</ol>\n"
            ]
          },
          "metadata": {
            "tags": []
          }
        },
        {
          "output_type": "display_data",
          "data": {
            "text/plain": [
              "\n",
              "Chinese Han ethnicity                ethnic     ethnic.background \n",
              "                    2                     1                     1 \n",
              "         ethnic.group          Ethnic.Group            Ethnically \n",
              "                    1                     1                     1 \n",
              "            ethnicity             Ethnicity    maternal_ethnicity \n",
              "                   86                     2                     1 \n",
              "         patient.race                  race                  Race \n",
              "                    1                    55                     2 \n",
              "    subject.ethnicity                 trace \n",
              "                    1                     1 "
            ]
          },
          "metadata": {
            "tags": []
          }
        }
      ]
    },
    {
      "cell_type": "code",
      "metadata": {
        "id": "3Jhq_hSYtoWj",
        "colab_type": "code",
        "colab": {}
      },
      "source": [
        "loggapdh = log(as.numeric(assay(se1[which(rowData(se1)$gene_name==\"GAPDH\")[1],]))+1)"
      ],
      "execution_count": 0,
      "outputs": []
    },
    {
      "cell_type": "code",
      "metadata": {
        "id": "qIhUPgWDtoWl",
        "colab_type": "code",
        "colab": {}
      },
      "source": [
        "logbrca2 = log(as.numeric(assay(se1[which(rowData(se1)$gene_name==\"BRCA2\")[1],]))+1)"
      ],
      "execution_count": 0,
      "outputs": []
    },
    {
      "cell_type": "code",
      "metadata": {
        "id": "19nQxcDgtoWn",
        "colab_type": "code",
        "outputId": "1025df49-7eee-44a2-f33a-48a33d863fd5",
        "colab": {
          "base_uri": "https://localhost:8080/",
          "height": 437
        }
      },
      "source": [
        "plot(density(logbrca2), main=\"Densities of log BRCA2 and GAPDH abundance\")\n",
        "lines(density(loggapdh), lty=2)\n",
        "legend(6,.4, lty=c(1,2), legend=c(\"log BRCA2\", \"log GAPDH\"))"
      ],
      "execution_count": 19,
      "outputs": [
        {
          "output_type": "display_data",
          "data": {
            "image/png": "[encoded data removed]",
            "text/plain": [
              "Plot with title “Densities of log BRCA2 and GAPDH abundance”"
            ]
          },
          "metadata": {
            "tags": [],
            "image/png": {
              "width": 420,
              "height": 420
            },
            "text/plain": {
              "width": 420,
              "height": 420
            }
          }
        }
      ]
    },
    {
      "cell_type": "markdown",
      "metadata": {
        "id": "e4k4E5titoWp",
        "colab_type": "text"
      },
      "source": [
        "## Summary <a id=\"summary\"></a>\n",
        "\n",
        "This notebook has demonstrated how one may interact directly with an image of 181000 uniformly preprocessed RNA-seq experiments.  Through the use of Bioconductor's SummarizedExperiment data structure and the restfulSE/DelayedArray protocols, the quantifications are tightly coupled with substantive metadata.  The use of HSDS to manage the quantifications is new, and methods for efficient extraction of large subsets for multivariate analysis are under development.\n",
        "\n",
        "Comments regarding this work should be filed at the [HumanTranscriptomeCompendium](https://github.com/vjcitn/HumanTranscriptomeCompendium/issues) repository.  \n",
        "\n",
        "This work was supported by grants from NIH NCI U01 CA214846, U24 CA180996, and Chan Zuckerberg Initiative DAF 2018-183436. "
      ]
    },
    {
      "cell_type": "code",
      "metadata": {
        "id": "gZwVd0tOtoWq",
        "colab_type": "code",
        "outputId": "ae2057df-0635-41fa-93fd-e0b9ea583f70",
        "colab": {
          "base_uri": "https://localhost:8080/",
          "height": 864
        }
      },
      "source": [
        "sessionInfo()"
      ],
      "execution_count": 20,
      "outputs": [
        {
          "output_type": "display_data",
          "data": {
            "text/plain": [
              "R version 3.6.2 (2019-12-12)\n",
              "Platform: x86_64-pc-linux-gnu (64-bit)\n",
              "Running under: Ubuntu 18.04.3 LTS\n",
              "\n",
              "Matrix products: default\n",
              "BLAS:   /usr/lib/x86_64-linux-gnu/openblas/libblas.so.3\n",
              "LAPACK: /usr/lib/x86_64-linux-gnu/libopenblasp-r0.2.20.so\n",
              "\n",
              "locale:\n",
              " [1] LC_CTYPE=en_US.UTF-8       LC_NUMERIC=C              \n",
              " [3] LC_TIME=en_US.UTF-8        LC_COLLATE=en_US.UTF-8    \n",
              " [5] LC_MONETARY=en_US.UTF-8    LC_MESSAGES=en_US.UTF-8   \n",
              " [7] LC_PAPER=en_US.UTF-8       LC_NAME=C                 \n",
              " [9] LC_ADDRESS=C               LC_TELEPHONE=C            \n",
              "[11] LC_MEASUREMENT=en_US.UTF-8 LC_IDENTIFICATION=C       \n",
              "\n",
              "attached base packages:\n",
              "[1] parallel  stats4    stats     graphics  grDevices utils     datasets \n",
              "[8] methods   base     \n",
              "\n",
              "other attached packages:\n",
              " [1] ssrch_1.2.0                        rhdf5client_1.8.0                 \n",
              " [3] SummarizedExperiment_1.16.1        DelayedArray_0.12.2               \n",
              " [5] BiocParallel_1.20.1                matrixStats_0.55.0                \n",
              " [7] Biobase_2.46.0                     GenomicRanges_1.38.0              \n",
              " [9] GenomeInfoDb_1.22.0                IRanges_2.20.2                    \n",
              "[11] S4Vectors_0.24.2                   BiocGenerics_0.32.0               \n",
              "[13] HumanTranscriptomeCompendium_1.2.0\n",
              "\n",
              "loaded via a namespace (and not attached):\n",
              " [1] Rcpp_1.0.3             lattice_0.20-38        assertthat_0.2.1      \n",
              " [4] zeallot_0.1.0          digest_0.6.23          mime_0.7              \n",
              " [7] IRdisplay_0.7.0        BiocFileCache_1.10.2   R6_2.4.1              \n",
              "[10] repr_1.0.2             backports_1.1.5        RSQLite_2.2.0         \n",
              "[13] evaluate_0.14          httr_1.4.1             pillar_1.4.2          \n",
              "[16] zlibbioc_1.32.0        rlang_0.4.2            curl_4.2              \n",
              "[19] uuid_0.1-2             blob_1.2.0             Matrix_1.2-18         \n",
              "[22] DT_0.10                htmlwidgets_1.5.1      RCurl_1.95-4.13       \n",
              "[25] bit_1.1-15.1           shiny_1.4.0            compiler_3.6.2        \n",
              "[28] httpuv_1.5.2           pkgconfig_2.0.3        base64enc_0.1-3       \n",
              "[31] htmltools_0.4.0        tidyselect_0.2.5       tibble_2.1.3          \n",
              "[34] GenomeInfoDbData_1.2.2 crayon_1.3.4           dplyr_0.8.3           \n",
              "[37] dbplyr_1.4.2           later_1.0.0            rappdirs_0.3.1        \n",
              "[40] bitops_1.0-6           grid_3.6.2             jsonlite_1.6          \n",
              "[43] xtable_1.8-3           DBI_1.1.0              magrittr_1.5          \n",
              "[46] XVector_0.26.0         promises_1.1.0         vctrs_0.2.0           \n",
              "[49] IRkernel_1.1           rjson_0.2.20           tools_3.6.2           \n",
              "[52] bit64_0.9-7            glue_1.3.1             purrr_0.3.3           \n",
              "[55] fastmap_1.0.1          memoise_1.1.0          pbdZMQ_0.3-3          "
            ]
          },
          "metadata": {
            "tags": []
          }
        }
      ]
    },
    {
      "cell_type": "code",
      "metadata": {
        "id": "kxu5LYhD_OEF",
        "colab_type": "code",
        "outputId": "b321163f-1462-43a2-fa96-619683c9c744",
        "colab": {
          "base_uri": "https://localhost:8080/",
          "height": 35
        }
      },
      "source": [
        "BiocManager::version()"
      ],
      "execution_count": 21,
      "outputs": [
        {
          "output_type": "display_data",
          "data": {
            "text/plain": [
              "[1] ‘3.10’"
            ]
          },
          "metadata": {
            "tags": []
          }
        }
      ]
    },
    {
      "cell_type": "code",
      "metadata": {
        "id": "UTIAeDEN_iGr",
        "colab_type": "code",
        "outputId": "d17c488e-581b-4c57-c27f-25eddb1f3d87",
        "colab": {
          "base_uri": "https://localhost:8080/",
          "height": 35
        }
      },
      "source": [
        "#system(\"mkdir Bioc3.10_colab_htxpkgs\")\n",
        ".libPaths()[1]\n",
        "system(\"cp -r /usr/local/lib/R/site-library/* Bioc3.10_colab_htxpkgs\")"
      ],
      "execution_count": 22,
      "outputs": [
        {
          "output_type": "display_data",
          "data": {
            "text/plain": [
              "[1] \"/content/Bioc3.10_colab_htxpkgs\""
            ],
            "text/latex": "'/content/Bioc3.10\\_colab\\_htxpkgs'",
            "text/markdown": "'/content/Bioc3.10_colab_htxpkgs'",
            "text/html": [
              "'/content/Bioc3.10_colab_htxpkgs'"
            ]
          },
          "metadata": {
            "tags": []
          }
        }
      ]
    },
    {
      "cell_type": "code",
      "metadata": {
        "id": "1LxXWRAf_2n1",
        "colab_type": "code",
        "colab": {}
      },
      "source": [
        "system(\"zip -r Bioc_3.10_colab_htxpkgs.zip Bioc3.10_colab_htxpkgs\")"
      ],
      "execution_count": 0,
      "outputs": []
    },
    {
      "cell_type": "code",
      "metadata": {
        "id": "56E756fzAW9f",
        "colab_type": "code",
        "outputId": "c33fbea6-3170-461e-ff2e-90bd552d0f3e",
        "colab": {
          "base_uri": "https://localhost:8080/",
          "height": 114
        }
      },
      "source": [
        "system(\"ls -tl\", intern=TRUE)"
      ],
      "execution_count": 24,
      "outputs": [
        {
          "output_type": "display_data",
          "data": {
            "text/plain": [
              "[1] \"total 51924\"                                                              \n",
              "[2] \"-rw-r--r--  1 root root 53161816 Jan 20 14:19 Bioc_3.10_colab_htxpkgs.zip\"\n",
              "[3] \"drwxr-xr-x 42 root root     4096 Jan 18 23:32 Bioc3.10_colab_htxpkgs\"     \n",
              "[4] \"drwxr-xr-x  1 root root     4096 Jan 13 16:38 sample_data\"                "
            ],
            "text/latex": "\\begin{enumerate*}\n\\item 'total 51924'\n\\item '-rw-r--r--  1 root root 53161816 Jan 20 14:19 Bioc\\_3.10\\_colab\\_htxpkgs.zip'\n\\item 'drwxr-xr-x 42 root root     4096 Jan 18 23:32 Bioc3.10\\_colab\\_htxpkgs'\n\\item 'drwxr-xr-x  1 root root     4096 Jan 13 16:38 sample\\_data'\n\\end{enumerate*}\n",
            "text/markdown": "1. 'total 51924'\n2. <span style=white-space:pre-wrap>'-rw-r--r--  1 root root 53161816 Jan 20 14:19 Bioc_3.10_colab_htxpkgs.zip'</span>\n3. <span style=white-space:pre-wrap>'drwxr-xr-x 42 root root     4096 Jan 18 23:32 Bioc3.10_colab_htxpkgs'</span>\n4. <span style=white-space:pre-wrap>'drwxr-xr-x  1 root root     4096 Jan 13 16:38 sample_data'</span>\n\n\n",
            "text/html": [
              "<ol class=list-inline>\n",
              "\t<li>'total 51924'</li>\n",
              "\t<li><span style=white-space:pre-wrap>'-rw-r--r--  1 root root 53161816 Jan 20 14:19 Bioc_3.10_colab_htxpkgs.zip'</span></li>\n",
              "\t<li><span style=white-space:pre-wrap>'drwxr-xr-x 42 root root     4096 Jan 18 23:32 Bioc3.10_colab_htxpkgs'</span></li>\n",
              "\t<li><span style=white-space:pre-wrap>'drwxr-xr-x  1 root root     4096 Jan 13 16:38 sample_data'</span></li>\n",
              "</ol>\n"
            ]
          },
          "metadata": {
            "tags": []
          }
        }
      ]
    }
  ]
}